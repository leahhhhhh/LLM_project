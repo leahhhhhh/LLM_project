{
 "cells": [
  {
   "cell_type": "code",
   "execution_count": 67,
   "metadata": {},
   "outputs": [],
   "source": [
    "\n",
    "nums = [4, 5, 2, 3, 3, 2, 5]## [4,3,1,3,5,2,2]\n",
    "k=4\n",
    "def search(nums,k):\n",
    "    ans=[]\n",
    "    num_pick=[]\n",
    "    if sum(nums)%k!=0:\n",
    "        return False\n",
    "    res=sum(nums)/k\n",
    "    print('res',res)\n",
    "    for i in range(len(nums)):## 4\n",
    "        if nums[i] ==res:\n",
    "            ans.append(nums[i])\n",
    "            num_pick.append(i)\n",
    "        for j in range(i+1, len(nums)):## \n",
    "            #print('i',i,'j',j)\n",
    "            if j not in num_pick and i not in num_pick:\n",
    "                sum_=nums[i]+nums[j]\n",
    "                if sum_==res:\n",
    "                    ans.append((nums[i],nums[j]))\n",
    "                    num_pick.append(j)\n",
    "                elif j ==len(nums)-1:\n",
    "                    return False\n",
    "    print('j:',j)\n",
    "    if j+1 == len(nums):\n",
    "        print('True')\n",
    "\n",
    "    return ans\n"
   ]
  },
  {
   "cell_type": "code",
   "execution_count": 68,
   "metadata": {},
   "outputs": [
    {
     "name": "stdout",
     "output_type": "stream",
     "text": [
      "res 6.0\n"
     ]
    },
    {
     "data": {
      "text/plain": [
       "False"
      ]
     },
     "execution_count": 68,
     "metadata": {},
     "output_type": "execute_result"
    }
   ],
   "source": [
    "ans=search(nums,k)\n",
    "ans"
   ]
  },
  {
   "cell_type": "code",
   "execution_count": 69,
   "metadata": {},
   "outputs": [
    {
     "data": {
      "text/plain": [
       "[2, 2, 3, 3, 4, 5, 5]"
      ]
     },
     "execution_count": 69,
     "metadata": {},
     "output_type": "execute_result"
    }
   ],
   "source": [
    "nums = [4, 5, 2, 3, 3, 2, 5]\n",
    "def sort(nums):\n",
    "    for i in range(len(nums)):\n",
    "        for j in range(i+1, len(nums)):\n",
    "            if nums[i]>nums[j]:\n",
    "                a=nums[i]\n",
    "                nums[i]=nums[j]\n",
    "                nums[j]=a\n",
    "    return nums\n",
    "t=sort(nums)\n",
    "t\n",
    "\n"
   ]
  },
  {
   "cell_type": "code",
   "execution_count": null,
   "metadata": {},
   "outputs": [],
   "source": []
  }
 ],
 "metadata": {
  "kernelspec": {
   "display_name": "ai",
   "language": "python",
   "name": "python3"
  },
  "language_info": {
   "codemirror_mode": {
    "name": "ipython",
    "version": 3
   },
   "file_extension": ".py",
   "mimetype": "text/x-python",
   "name": "python",
   "nbconvert_exporter": "python",
   "pygments_lexer": "ipython3",
   "version": "3.9.18"
  }
 },
 "nbformat": 4,
 "nbformat_minor": 2
}
